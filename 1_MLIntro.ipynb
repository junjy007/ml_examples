{
 "cells": [
  {
   "cell_type": "markdown",
   "metadata": {},
   "source": [
    "Example 1\n",
    "\n",
    "Concepts for learning"
   ]
  },
  {
   "cell_type": "code",
   "execution_count": 1,
   "metadata": {},
   "outputs": [],
   "source": [
    "import numpy as np\n",
    "\n",
    "def to_01(arr):\n",
    "    return ''.join(['{0:08b}'.format(x) for x in arr.astype(np.uint8)])\n",
    "\n",
    "def from_01(binary_str):\n",
    "    n = 8\n",
    "    return np.array([int(binary_str[i:i+n], 2) for i in range(0, len(binary_str), n)], dtype=np.uint8)\n",
    "\n",
    "# a = np.array([3, 5])\n",
    "# s = to_01(a)\n",
    "# print(s, from_01(s))"
   ]
  },
  {
   "cell_type": "code",
   "execution_count": 2,
   "metadata": {},
   "outputs": [
    {
     "name": "stdout",
     "output_type": "stream",
     "text": [
      "00000110000100110\n",
      "00011100000011101\n",
      "00001010000001111\n",
      "00011100000101001\n",
      "00000110000110010\n",
      "00010010000101100\n",
      "00001010000010101\n",
      "00010111000101001\n",
      "00000011000001110\n",
      "00010111000000101\n",
      "00010101000101001\n",
      "00000001000101110\n",
      "00001011000111010\n",
      "00000101000000011\n",
      "00011111000110111\n",
      "00010100000000001\n",
      "00001011000110010\n",
      "00010101000111000\n",
      "00001011000110000\n",
      "00010000000110100\n",
      "00011010000111100\n",
      "00001001000111110\n",
      "00011011000110111\n",
      "00001111000011101\n",
      "00011101000111011\n",
      "00001110000111010\n",
      "00010010000010111\n",
      "00010110000100111\n",
      "00011111000110001\n",
      "00000010000001000\n",
      "00010010000001101\n",
      "00010100000010001\n",
      "00000110000100010\n",
      "00000011000110000\n",
      "00011011000011011\n",
      "00010001000110010\n",
      "00001000000110010\n",
      "00010100000000011\n",
      "00010011000110110\n",
      "00001110000110110\n",
      "00000110000010110\n",
      "00011100000001111\n",
      "00001110000000101\n",
      "00001101000100000\n",
      "00000011000100010\n",
      "00000111000000111\n",
      "00000001000111010\n",
      "00000101000101010\n",
      "00001001000000111\n",
      "00010101000111000\n"
     ]
    }
   ],
   "source": [
    "rng = np.random.RandomState(42)\n",
    "n = 50\n",
    "samples = []\n",
    "samples_b = []\n",
    "for i in range(n):\n",
    "    a0 = rng.randint(32)\n",
    "    a1 = rng.randint(32)\n",
    "    samples.append([a0, a1])\n",
    "for a0, a1 in samples:\n",
    "    ge = '0' if a0 < a1 else '1'\n",
    "    a = np.array([a0, a1])\n",
    "    s = to_01(a)\n",
    "    samples_b.append(s)\n",
    "    print(s+ge)\n",
    "\n",
    "\n"
   ]
  },
  {
   "cell_type": "code",
   "execution_count": 3,
   "metadata": {},
   "outputs": [
    {
     "name": "stdout",
     "output_type": "stream",
     "text": [
      "   6   19 0\n",
      "  28   14 1\n",
      "  10    7 1\n",
      "  28   20 1\n",
      "   6   25 0\n",
      "  18   22 0\n",
      "  10   10 1\n",
      "  23   20 1\n",
      "   3    7 0\n",
      "  23    2 1\n",
      "  21   20 1\n",
      "   1   23 0\n",
      "  11   29 0\n",
      "   5    1 1\n",
      "  31   27 1\n",
      "  20    0 1\n",
      "  11   25 0\n",
      "  21   28 0\n",
      "  11   24 0\n",
      "  16   26 0\n",
      "  26   30 0\n",
      "   9   31 0\n",
      "  27   27 1\n",
      "  15   14 1\n",
      "  29   29 1\n",
      "  14   29 0\n",
      "  18   11 1\n",
      "  22   19 1\n",
      "  31   24 1\n",
      "   2    4 0\n",
      "  18    6 1\n",
      "  20    8 1\n",
      "   6   17 0\n",
      "   3   24 0\n",
      "  27   13 1\n",
      "  17   25 0\n",
      "   8   25 0\n",
      "  20    1 1\n",
      "  19   27 0\n",
      "  14   27 0\n",
      "   6   11 0\n",
      "  28    7 1\n",
      "  14    2 1\n",
      "  13   16 0\n",
      "   3   17 0\n",
      "   7    3 1\n",
      "   1   29 0\n",
      "   5   21 0\n",
      "   9    3 1\n",
      "  21   28 0\n"
     ]
    }
   ],
   "source": [
    "for s in samples_b:\n",
    "    a0, a1 = from_01(s)\n",
    "    ge = '0' if a0 < a1 else '1'\n",
    "    print(f\"{a0:4d} {a1:4d}\", ge)"
   ]
  },
  {
   "cell_type": "code",
   "execution_count": 4,
   "metadata": {},
   "outputs": [
    {
     "data": {
      "image/png": "[encoded data removed]",
      "text/plain": [
       "<Figure size 432x432 with 1 Axes>"
      ]
     },
     "metadata": {
      "needs_background": "light"
     },
     "output_type": "display_data"
    }
   ],
   "source": [
    "import matplotlib.pyplot as plt\n",
    "samp_arr = np.array(samples)\n",
    "fig, ax = plt.subplots(1, 1, figsize=(6, 6))\n",
    "ax.scatter(samp_arr[:, 0], samp_arr[:, 1], c=samp_arr[:, 0]>=samp_arr[:, 1])\n",
    "ax.grid('on')\n",
    "ax.set_xticks(np.arange(0, 32, 2))\n",
    "ax.set_yticks(np.arange(0, 32, 2))\n",
    "plt.show()"
   ]
  },
  {
   "cell_type": "markdown",
   "metadata": {},
   "source": [
    "Example 2"
   ]
  },
  {
   "cell_type": "markdown",
   "metadata": {},
   "source": [
    "Let us do a model manually\n",
    "\n",
    "$w1 * x1 + w2 * x2 + ... > 0$"
   ]
  },
  {
   "cell_type": "code",
   "execution_count": null,
   "metadata": {},
   "outputs": [],
   "source": [
    "# check samples_b contains binary string\n",
    "# samples contains the numbers\n",
    "samples_b[0], samples[0]"
   ]
  },
  {
   "cell_type": "code",
   "execution_count": 5,
   "metadata": {},
   "outputs": [],
   "source": [
    "def bitstr_to_bits(s):\n",
    "    return np.array([int(c) for c in s]).astype(np.float64)"
   ]
  },
  {
   "cell_type": "code",
   "execution_count": 6,
   "metadata": {},
   "outputs": [
    {
     "name": "stdout",
     "output_type": "stream",
     "text": [
      "Weights [ 128   64   32   16    8    4    2    1 -128  -64  -32  -16   -8   -4\n",
      "   -2   -1]\n",
      "Weights working on the first 10 samples\n",
      "0 <W,Bits> -13.0 >= 0? False a0(6)>=a1(19)? False\n",
      "1 <W,Bits> 14.0 >= 0? True a0(28)>=a1(14)? True\n",
      "2 <W,Bits> 3.0 >= 0? True a0(10)>=a1(7)? True\n",
      "3 <W,Bits> 8.0 >= 0? True a0(28)>=a1(20)? True\n",
      "4 <W,Bits> -19.0 >= 0? False a0(6)>=a1(25)? False\n",
      "5 <W,Bits> -4.0 >= 0? False a0(18)>=a1(22)? False\n",
      "6 <W,Bits> 0.0 >= 0? True a0(10)>=a1(10)? True\n",
      "7 <W,Bits> 3.0 >= 0? True a0(23)>=a1(20)? True\n",
      "8 <W,Bits> -4.0 >= 0? False a0(3)>=a1(7)? False\n",
      "9 <W,Bits> 21.0 >= 0? True a0(23)>=a1(2)? True\n"
     ]
    }
   ],
   "source": [
    "w_tmp = np.power(2, np.arange(7, -1, -1))\n",
    "w = np.concatenate([w_tmp, -w_tmp])\n",
    "print(\"Weights\", w)\n",
    "print(\"Weights working on the first 10 samples\")\n",
    "for i in range(10):\n",
    "    xbits = bitstr_to_bits(samples_b[i])\n",
    "    a0, a1 = samples[i]\n",
    "    print(i, f\"<W,Bits> {(w*xbits).sum()} >= 0?\", (w*xbits).sum()>=0, f\"a0({a0})>=a1({a1})?\", a0>=a1)"
   ]
  },
  {
   "cell_type": "markdown",
   "metadata": {},
   "source": [
    "Example 3\n",
    "\n",
    "Let us try to guess the $w$ parameters automatically.\n",
    "\n",
    "Basically, we give a \"reckless enough W\" that \"fights with\" a data sample a high energy. \n",
    "\n",
    "Then we let the system \"relax\" -- by having it \"lazily go to low energy status\"."
   ]
  },
  {
   "cell_type": "code",
   "execution_count": 7,
   "metadata": {},
   "outputs": [
    {
     "name": "stdout",
     "output_type": "stream",
     "text": [
      "00000110000100110\n",
      "00011100000011101\n",
      "00001010000001111\n",
      "00011100000101001\n",
      "00000110000110010\n",
      "00010010000101100\n",
      "00001010000010101\n",
      "00010111000101001\n",
      "00000011000001110\n",
      "00010111000000101\n",
      "00010101000101001\n",
      "00000001000101110\n",
      "00001011000111010\n",
      "00000101000000011\n",
      "00011111000110111\n",
      "00010100000000001\n",
      "00001011000110010\n",
      "00010101000111000\n",
      "00001011000110000\n",
      "00010000000110100\n",
      "00011010000111100\n",
      "00001001000111110\n",
      "00011011000110111\n",
      "00001111000011101\n",
      "00011101000111011\n",
      "00001110000111010\n",
      "00010010000010111\n",
      "00010110000100111\n",
      "00011111000110001\n",
      "00000010000001000\n",
      "00010010000001101\n",
      "00010100000010001\n",
      "00000110000100010\n",
      "00000011000110000\n",
      "00011011000011011\n",
      "00010001000110010\n",
      "00001000000110010\n",
      "00010100000000011\n",
      "00010011000110110\n",
      "00001110000110110\n",
      "00000110000010110\n",
      "00011100000001111\n",
      "00001110000000101\n",
      "00001101000100000\n",
      "00000011000100010\n",
      "00000111000000111\n",
      "00000001000111010\n",
      "00000101000101010\n",
      "00001001000000111\n",
      "00010101000111000\n",
      "00011110000100011\n",
      "00011001000010111\n",
      "00000001000010010\n",
      "00011101000000111\n",
      "00001101000111100\n",
      "00001111000011101\n",
      "00000111000011010\n",
      "00010110000110110\n",
      "00011000000111010\n",
      "00000111000101000\n",
      "00001111000011001\n",
      "00010001000011101\n",
      "00010100000101110\n",
      "00011001000110001\n",
      "00011011000110111\n",
      "00011011000011001\n",
      "00001000000111000\n",
      "00001110000011001\n",
      "00000000000110000\n",
      "00000110000010000\n",
      "00010111000000001\n",
      "00001011000001111\n",
      "00010111000111100\n",
      "00001010000100100\n",
      "00010000000001111\n",
      "00000010000000101\n",
      "00000000000110100\n",
      "00000100000010010\n",
      "00000110000110010\n",
      "00001000000110110\n",
      "00000110000010000\n",
      "00000111000010110\n",
      "00000001000000001\n",
      "00001111000101100\n",
      "00010110000111010\n",
      "00010111000001001\n",
      "00000010000010110\n",
      "00000111000101010\n",
      "00011010000000101\n",
      "00000000000000100\n",
      "00000100000011100\n",
      "00001101000000101\n",
      "00000000000001000\n",
      "00011001000101101\n",
      "00011110000011011\n",
      "00000110000110100\n",
      "00001000000011100\n",
      "00001110000110010\n",
      "00001001000110110\n",
      "00001100000100100\n"
     ]
    }
   ],
   "source": [
    "rng = np.random.RandomState(42)\n",
    "n = 100\n",
    "samples = []\n",
    "samples_b = []\n",
    "for i in range(n):\n",
    "    a0 = rng.randint(32)\n",
    "    a1 = rng.randint(32)\n",
    "    samples.append([a0, a1])\n",
    "for a0, a1 in samples:\n",
    "    ge = '0' if a0 < a1 else '1'\n",
    "    a = np.array([a0, a1])\n",
    "    s = to_01(a)\n",
    "    samples_b.append(s)\n",
    "    print(s+ge)"
   ]
  },
  {
   "cell_type": "markdown",
   "metadata": {},
   "source": [
    "Define an \"energy\" term:\n",
    "\n",
    "If $y$ and $\\langle x, w \\rangle$ do not agree, then\n",
    "\n",
    "$E(x;w) = |\\langle x, w \\rangle| $"
   ]
  },
  {
   "cell_type": "code",
   "execution_count": 8,
   "metadata": {},
   "outputs": [
    {
     "name": "stdout",
     "output_type": "stream",
     "text": [
      "23 37.97085952962537\n",
      "19 32.15001871872728\n",
      "31 24.904474501572942\n",
      "72 21.114046996105156\n",
      "33 15.381911857424695\n",
      "16 10.063202381480549\n",
      "67 7.491021525438362\n",
      "27 5.2267377019047165\n",
      "3 3.6463226950769605\n",
      "52 2.019659248888888\n",
      "32 1.1569888468598513\n",
      "6 0.4429345815492141\n",
      "54 0.13290866601081314\n",
      "81 0.0006166117486262612\n",
      "16 0.0\n",
      "25 0.0\n",
      "35 0.013862431892223692\n",
      "91 0.0\n",
      "16 0.0\n",
      "10 0.0\n"
     ]
    }
   ],
   "source": [
    "# compute the energy \n",
    "def mod_eng_persample(sample, w):\n",
    "    x, y = sample\n",
    "\n",
    "    if ((x * w).sum() >= 0 and y == 0) or ((x*w).sum() < 0 and y == 1):\n",
    "        return abs((x*w).sum())\n",
    "    else:\n",
    "        return 0\n",
    "\n",
    "# compute the energy per sample\n",
    "def mod_eng(w):\n",
    "    e = 0\n",
    "    for i in range(len(samples)):\n",
    "        xbits = bitstr_to_bits(samples_b[i])\n",
    "        a0, a1 = samples[i]\n",
    "        y = 1 if a0>=a1 else 0\n",
    "        e += mod_eng_persample((xbits, y), w)\n",
    "    return e\n",
    "\n",
    "    \n",
    "\n",
    "rng = np.random.RandomState(42)\n",
    "w0 = rng.randn(16)\n",
    "\n",
    "dt = 0.1\n",
    "beta = 0.1\n",
    "w = w0\n",
    "for t in range(20):\n",
    "    dw = rng.randn(100, len(w)) * dt\n",
    "    w_candi = dw + w\n",
    "\n",
    "    # compute the energies for each new proposal\n",
    "    energies = np.array([mod_eng(w_) for w_ in w_candi])\n",
    "\n",
    "    j = np.argmin(energies) # this == \\beta = \\infity (99999)\n",
    "    w = w_candi[j]\n",
    "    print(j, energies[j])\n",
    "\n",
    "\n"
   ]
  },
  {
   "cell_type": "code",
   "execution_count": 9,
   "metadata": {},
   "outputs": [
    {
     "data": {
      "image/png": "[encoded data removed]",
      "text/plain": [
       "<Figure size 432x288 with 1 Axes>"
      ]
     },
     "metadata": {
      "needs_background": "light"
     },
     "output_type": "display_data"
    }
   ],
   "source": [
    "import matplotlib.pyplot as plt\n",
    "\n",
    "plt.bar(np.arange(len(w)), w)\n",
    "plt.grid('on')"
   ]
  },
  {
   "cell_type": "code",
   "execution_count": null,
   "metadata": {},
   "outputs": [],
   "source": [
    "n = 100\n",
    "samples_test = []\n",
    "samples_b_test = []\n",
    "for i in range(n):\n",
    "    a0 = rng.randint(32)\n",
    "    a1 = rng.randint(32)\n",
    "    samples_test.append([a0, a1])\n",
    "for a0, a1 in samples_test:\n",
    "    ge = '0' if a0 < a1 else '1'\n",
    "    a = np.array([a0, a1])\n",
    "    s = to_01(a)\n",
    "    samples_b_test.append(s)\n",
    "\n",
    "print(\"Check model on new samples\")\n",
    "corr_test = 0\n",
    "for i in range(len(samples_test)):\n",
    "    xbits = bitstr_to_bits(samples_b_test[i])\n",
    "    a0, a1 = samples_test[i]\n",
    "    corr = ((w*xbits).sum() >= 0) == (a0 >= a1)\n",
    "    corr_test += int(corr)\n",
    "    if i<10:\n",
    "        print(i, f\"<W,Bits> {(w*xbits).sum()}\", a0, a1)\n",
    "        print(f\"\\t Is the model getting the concept correctly? {corr}\")\n",
    "print(corr_test, f\"samples are correctly compared in {n} test samples\")\n",
    "\n"
   ]
  },
  {
   "cell_type": "markdown",
   "metadata": {},
   "source": [
    "Example 4\n",
    "\n",
    "Hmm..."
   ]
  },
  {
   "cell_type": "markdown",
   "metadata": {},
   "source": [
    "To prepare the data in slides"
   ]
  },
  {
   "cell_type": "code",
   "execution_count": null,
   "metadata": {},
   "outputs": [],
   "source": [
    "import os\n",
    "import numpy as np\n",
    "from PIL import Image\n",
    "\n",
    "# Define the directories\n",
    "duck_dir = 'Data/DuckImages/Ducks'\n",
    "cow_dir = 'Data/DuckImages/Cows'\n",
    "\n",
    "# Function to load and preprocess images\n",
    "def load_and_preprocess_images(directory, label):\n",
    "    images = []\n",
    "    for filename in os.listdir(directory):\n",
    "        if filename.endswith('.webp'):\n",
    "            image_path = os.path.join(directory, filename)\n",
    "            image = Image.open(image_path).convert('RGB')\n",
    "            image = image.resize((16, 16))\n",
    "            image = np.array(image).astype(np.uint8)\n",
    "            images.append(image)\n",
    "    return np.array(images)\n",
    "\n",
    "# Load and preprocess images\n",
    "cow_images = load_and_preprocess_images(cow_dir, 0)\n",
    "duck_images = load_and_preprocess_images(duck_dir, 0)\n",
    "imc = cow_images[5]\n",
    "im0 = duck_images[2]"
   ]
  },
  {
   "cell_type": "code",
   "execution_count": null,
   "metadata": {},
   "outputs": [],
   "source": [
    "plt.imshow(im0)"
   ]
  },
  {
   "cell_type": "code",
   "execution_count": null,
   "metadata": {},
   "outputs": [],
   "source": [
    "# output to 01 strings\n",
    "with open('tmp01.txt', 'w') as f:\n",
    "    for r in range(16):\n",
    "        f.write(to_01(im0[r].flatten()))\n",
    "        f.write('\\n')"
   ]
  },
  {
   "cell_type": "markdown",
   "metadata": {},
   "source": [
    "To reveal what is in the slides"
   ]
  },
  {
   "cell_type": "code",
   "execution_count": null,
   "metadata": {},
   "outputs": [],
   "source": [
    "import matplotlib.pyplot as plt"
   ]
  },
  {
   "cell_type": "code",
   "execution_count": 4,
   "metadata": {},
   "outputs": [
    {
     "name": "stdout",
     "output_type": "stream",
     "text": [
      "[113 180 208]\n"
     ]
    },
    {
     "ename": "NameError",
     "evalue": "name 'plt' is not defined",
     "output_type": "error",
     "traceback": [
      "\u001b[0;31m---------------------------------------------------------------------------\u001b[0m",
      "\u001b[0;31mNameError\u001b[0m                                 Traceback (most recent call last)",
      "\u001b[0;32m/var/folders/ht/ryk_q36173dg_qtcy535zzy40000gp/T/ipykernel_9876/2753139475.py\u001b[0m in \u001b[0;36m<module>\u001b[0;34m\u001b[0m\n\u001b[1;32m      2\u001b[0m \u001b[0mprint\u001b[0m\u001b[0;34m(\u001b[0m\u001b[0mcb0\u001b[0m\u001b[0;34m)\u001b[0m\u001b[0;34m\u001b[0m\u001b[0;34m\u001b[0m\u001b[0m\n\u001b[1;32m      3\u001b[0m \u001b[0mcb0\u001b[0m \u001b[0;34m=\u001b[0m \u001b[0mcb0\u001b[0m\u001b[0;34m.\u001b[0m\u001b[0mreshape\u001b[0m\u001b[0;34m(\u001b[0m\u001b[0;34m(\u001b[0m\u001b[0;36m1\u001b[0m\u001b[0;34m,\u001b[0m \u001b[0;36m1\u001b[0m\u001b[0;34m,\u001b[0m \u001b[0;36m3\u001b[0m\u001b[0;34m)\u001b[0m\u001b[0;34m)\u001b[0m\u001b[0;34m\u001b[0m\u001b[0;34m\u001b[0m\u001b[0m\n\u001b[0;32m----> 4\u001b[0;31m \u001b[0mplt\u001b[0m\u001b[0;34m.\u001b[0m\u001b[0mimshow\u001b[0m\u001b[0;34m(\u001b[0m\u001b[0mcb0\u001b[0m\u001b[0;34m)\u001b[0m\u001b[0;34m\u001b[0m\u001b[0;34m\u001b[0m\u001b[0m\n\u001b[0m",
      "\u001b[0;31mNameError\u001b[0m: name 'plt' is not defined"
     ]
    }
   ],
   "source": [
    "cb0 = from_01('011100011011010011010000')\n",
    "print(cb0)\n",
    "cb0 = cb0.reshape((1, 1, 3))\n",
    "plt.imshow(cb0)"
   ]
  },
  {
   "cell_type": "code",
   "execution_count": null,
   "metadata": {},
   "outputs": [],
   "source": [
    "cb1 = from_01('011000011011010111100000011101011011111011000111110111001100000100110000')\n",
    "print(cb1)\n",
    "cb1 = cb1.reshape((1, 3, 3))\n",
    "plt.imshow(cb1)"
   ]
  },
  {
   "cell_type": "code",
   "execution_count": null,
   "metadata": {},
   "outputs": [],
   "source": [
    "cb2 = from_01('011100011011010111010100011110101011111011010000111000111110011001011000111110001110000100100001011100001011011011011000101111111101111110101010111111001111000001100000111011011101101101000101011110101011111011010110111001011110101101100100111101001110001000110110111001101100111100100101')\n",
    "cb2 = cb2.reshape((3, 4, 3))\n",
    "plt.imshow(cb2)"
   ]
  },
  {
   "cell_type": "code",
   "execution_count": null,
   "metadata": {},
   "outputs": [],
   "source": [
    "cb4 = from_01('011100011011010011010000011011111010111111001101011010111010110011001011011001111010100111001001010111011010010011001010011011101011000110110100100000011011011010011001010111001010001010110100010011001001100111000001010011011001010010111000010010001000111110110011010001011000101110101111010000011000100010101100001111101000010010101010001110101000001010100111001101100111111110100110011100111011010111010000011100011011000011001100011011001010110111001010011000111010100011001101100011001100011010101100111000111101111000110000101110111001100000001011101100111001110000100010011000111001100110100100010011011001100010111110010011011001001010110100010010011000111010110010010001011000101110101110010000011000011110101011001111111000010110101001001110111000001110101000011101001011011011010001011100011011000111001101011010101010111011001110011000001010111011010110110011111101000001111001111100011101000100011010110010101010101100001010101010110111111100000000100000010111111001011010010100001001110111000101010011101001010110110111010011001001000110110100010010011000111110110001010001011000101110101110010000101000100010101100001111101000010110101010011101001011011011010010011011111011001011010000011110001011010111000101101101001011001101101001110101001000000100000110101101100110100100000010101101111000011000001000100000000101000000000000100000000110100000111000010110111010000111000100010011101001100010111011010011101001010010110110010011001001001010110011010010001000111010110001010001011000101110101110010000001000100010101100011101011011011111010011011011111011011011010110100101001010110110010111101010101001001101010111011101111001100010011100101110111001000000110000101111111000011100000100101000000110111100000000100100110111010000111111010101001010010011001111010100001001110011000000010100001001100010111001010011011001010110110110010010111001000110110010010010011000111010101111010000111000101110101111011101101011100111010100011101011011011011010010011011101011010111010101011000011011010111100000011101011011111011000111110111001100000100110000111001001100011100001000110000111010011100001010101010011000110000111100011100111010010110101010010110001010000011000000010011011001101111000100010011111001100010111010010011011001010110110110010010101001001010110100010001101000111010110010011110011011101111010101011101101011011111010011011100011011010111010100011110101011111011010000111000111110011001011000111110001110000100100001111010001101011000100100110100101011110000010011110100101011001100000110111000001100000000001000110101001100010000101001100100001011000010001111010100001001111111000101010011111001100110111011010011011001010110110111010010011001000110110100011110101011110111010111011110001011100111010011011100001011011011011000101111111101111110101010111111001111000001100000111011011101101101000101111000001100101100100011110001101010110100001101110010011010010100001001111010101101000000001111110100101011001000000000101101101001001100010011100011001010001110010111010100011010000011000110010100001001101010111101010010111001011010111001011111001011111011011001011110011011101111010110011110101011111011010110111001011110101101100100111101001110001000110110111001101100111100100101110100011011011100010100101101101001011000001011101100011000011000001000110101101011100100001100101000111000001100000101011110110101111000000000100110101000010001010000011111001010111010111110010011111010000111000010010011111001110111000001011111111100001011011011011111001011111011011001011111101100000111010110111001101110010100101110111011001101010100010000110110001011111000010010101111111010000100001111100111110111110100001100100001010101111000000110100111100111100000000011100000000110010100000011010111110100110000000000011101110110110000111010101100101011001010001001101000001011011101111110010011111010001011001011100001001100010111011110100000011100001011011011011110111100000111100011110010011101011001001111111000011100011000000001110000011010010000001101101000111000001000001100100000100110001000001001011000110100100100000100011000010100001000000010011000100100011100000001010101000100100000000000011001000101111100011011100110101001001101110010100001101010100110100100010101011010101011010010100010101100100011100001100001111100011011011111100001011100011011100110100100111100100110111001110001101011010000010000101001001000001000000100100001010110010000001001011100010100101100000101011010010100000100000011011010010011110000000011011000010011110100000010010101000100100000000000010111110101100100001010011101101001101010001010011010011010110011000101011001101010011010110100100101101100111111100111101000011101000011100110101011001101001111101000100100011100110011101100100100011100000010101001100101111000001100011111100011110101001100000000100101010100100000000001101000110100001000000001101000000100000000000010011011000011111100000001010001010100110000010101011001111001000010000000011110111100001011100110011000111010110010111100010110001001101010010011101001001101010011101001100111111100110111100000100101111100011011010000100101011100111011101011100101011100111111110101100100011100101111100100101001001001110101111100101100110110111100100101100100100110010100100011011110110011111000010000010010110100000100100101010001100111001101101101010111101001011010011010011001101010000010100010010101111001100110000101001111000111011101010110101000101101000011010110100011101100010011000011011101111011011010100011101001001101011011010101100110011101001010011111100100111101000101101011101100101011101001001001100011001001000000100000010001110111011100010100100010100101001100010000010000100100110000001111000111010101100100001011000111100110000000001001001011010110100000001110001111110111001100010111001000010101110000011000100011001100001010110000011101011011101101110110011011011011110000111001011100111100011000101011011101101011111000001101101011001011000000000111100100011010100000001101011110011010011100010101101010111001101000001101100011001001010100010010001111011001010000011010001100111000110000011000001011111000000000010111001100110111111000010101001101110111011100010101001010110110111100010001')\n",
    "cb4 = cb4.reshape((16, 16, 3))\n",
    "plt.imshow(cb4)"
   ]
  },
  {
   "cell_type": "code",
   "execution_count": null,
   "metadata": {},
   "outputs": [],
   "source": [
    "plt.imshow(imc)"
   ]
  }
 ],
 "metadata": {
  "kernelspec": {
   "display_name": "base",
   "language": "python",
   "name": "python3"
  },
  "language_info": {
   "codemirror_mode": {
    "name": "ipython",
    "version": 3
   },
   "file_extension": ".py",
   "mimetype": "text/x-python",
   "name": "python",
   "nbconvert_exporter": "python",
   "pygments_lexer": "ipython3",
   "version": "3.9.7"
  }
 },
 "nbformat": 4,
 "nbformat_minor": 2
}
